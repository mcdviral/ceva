{
 "cells": [
  {
   "cell_type": "code",
   "execution_count": null,
   "metadata": {},
   "outputs": [],
   "source": [
    "import numpy as np\n",
    "\n",
    "from ceva import Ceva\n",
    "\n",
    "spline_log = '../example/spline.csv'\n",
    "\n",
    "def load_spline(x):\n",
    "\n",
    "    # Read the spline\n",
    "    log = open(x, 'r')\n",
    "\n",
    "    # Extract some settings in the header\n",
    "    log_header = log.readline()\n",
    "    log.close()\n",
    "\n",
    "    # Read the dt from header\n",
    "    dt = float(log_header.split(sep=',')[0].replace('Dt: ', ''))\n",
    "    # Read the order\n",
    "    order = int(log_header.split(sep=',')[1].replace('Order: ', ''))\n",
    "    # Read the knots\n",
    "    knots = int(log_header.split(sep=',')[2].replace('Knots: ', ''))\n",
    "    # Read the start time in header\n",
    "    start_time = float(log_header.split(sep=',')[3].replace('MinTime: ', ''))\n",
    "    # Calculate the end time\n",
    "    final_time = start_time + dt*(knots - order + 1)\n",
    "\n",
    "    # Create the spline from text\n",
    "    knots = np.loadtxt(x, delimiter=',', skiprows=1)\n",
    "    spline = Ceva(order, dt, start_time, x)\n",
    "\n",
    "    return spline\n",
    "\n",
    "# Load the spline\n",
    "gt_traj = load_spline(spline_log)\n",
    "\n",
    "# Sample the pose at 100s after the start\n",
    "pose_stamped = gt_traj.getPose(gt_traj.minTime() + 100) # Returns t, x, y, z, qx, qy, qz, qw\n",
    "print(pose_stamped)\n",
    "\n",
    "# You can also pass a vector of times and get an array\n",
    "pose_stamped = gt_traj.getPose(gt_traj.minTime() + np.arange(0, 100, 0.1)) # Returns t, x, y, z, qx, qy, qz, qw\n",
    "print(pose_stamped)"
   ]
  }
 ],
 "metadata": {
  "kernelspec": {
   "display_name": "py3810",
   "language": "python",
   "name": "python3"
  },
  "language_info": {
   "codemirror_mode": {
    "name": "ipython",
    "version": 3
   },
   "file_extension": ".py",
   "mimetype": "text/x-python",
   "name": "python",
   "nbconvert_exporter": "python",
   "pygments_lexer": "ipython3",
   "version": "3.8.10"
  }
 },
 "nbformat": 4,
 "nbformat_minor": 2
}
